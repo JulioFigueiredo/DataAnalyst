{
 "cells": [
  {
   "cell_type": "markdown",
   "metadata": {},
   "source": [
    "# **Introduction**\n",
    "\n"
   ]
  },
  {
   "cell_type": "markdown",
   "metadata": {},
   "source": [
    "This analysis was made using the Cristiano Ronaldo | All Club Goals Dataset, available on the website www.kaggle.com\n",
    "\n",
    "The motivation is to analyze the variables about all the goals and the performance of Cristiano Ronaldo during his career\n",
    "\n",
    "This can be important for football lovers to have a new vision of CR7 career\n",
    "\n",
    "\n",
    "Topics I will mention:\n",
    "\n",
    "- Goals by competition\n",
    "\n",
    "- Goals by position\n",
    "\n",
    "- Goals by club"
   ]
  },
  {
   "cell_type": "markdown",
   "metadata": {},
   "source": [
    "# **Importing Libraries**"
   ]
  },
  {
   "cell_type": "code",
   "execution_count": 2,
   "metadata": {},
   "outputs": [],
   "source": [
    "import pandas as pd\n",
    "\n",
    "import matplotlib.pyplot as plt\n",
    "\n",
    "import plotly.express as px\n"
   ]
  },
  {
   "cell_type": "markdown",
   "metadata": {},
   "source": [
    "# **Load Dataset**"
   ]
  },
  {
   "cell_type": "code",
   "execution_count": 3,
   "metadata": {},
   "outputs": [
    {
     "data": {
      "text/html": [
       "<div>\n",
       "<style scoped>\n",
       "    .dataframe tbody tr th:only-of-type {\n",
       "        vertical-align: middle;\n",
       "    }\n",
       "\n",
       "    .dataframe tbody tr th {\n",
       "        vertical-align: top;\n",
       "    }\n",
       "\n",
       "    .dataframe thead th {\n",
       "        text-align: right;\n",
       "    }\n",
       "</style>\n",
       "<table border=\"1\" class=\"dataframe\">\n",
       "  <thead>\n",
       "    <tr style=\"text-align: right;\">\n",
       "      <th></th>\n",
       "      <th>Season</th>\n",
       "      <th>Competition</th>\n",
       "      <th>Matchday</th>\n",
       "      <th>Date</th>\n",
       "      <th>Venue</th>\n",
       "      <th>Club</th>\n",
       "      <th>Opponent</th>\n",
       "      <th>Result</th>\n",
       "      <th>Playing_Position</th>\n",
       "      <th>Minute</th>\n",
       "      <th>At_score</th>\n",
       "      <th>Type</th>\n",
       "      <th>Goal_assist</th>\n",
       "    </tr>\n",
       "  </thead>\n",
       "  <tbody>\n",
       "    <tr>\n",
       "      <th>0</th>\n",
       "      <td>02/03</td>\n",
       "      <td>Liga Portugal</td>\n",
       "      <td>6</td>\n",
       "      <td>10-07-02</td>\n",
       "      <td>H</td>\n",
       "      <td>Sporting CP</td>\n",
       "      <td>Moreirense FC</td>\n",
       "      <td>3:00</td>\n",
       "      <td>LW</td>\n",
       "      <td>34</td>\n",
       "      <td>2:00</td>\n",
       "      <td>Solo run</td>\n",
       "      <td>NaN</td>\n",
       "    </tr>\n",
       "    <tr>\n",
       "      <th>1</th>\n",
       "      <td>02/03</td>\n",
       "      <td>Liga Portugal</td>\n",
       "      <td>6</td>\n",
       "      <td>10-07-02</td>\n",
       "      <td>H</td>\n",
       "      <td>Sporting CP</td>\n",
       "      <td>Moreirense FC</td>\n",
       "      <td>3:00</td>\n",
       "      <td>LW</td>\n",
       "      <td>90+5</td>\n",
       "      <td>3:00</td>\n",
       "      <td>Header</td>\n",
       "      <td>Rui Jorge</td>\n",
       "    </tr>\n",
       "    <tr>\n",
       "      <th>2</th>\n",
       "      <td>02/03</td>\n",
       "      <td>Liga Portugal</td>\n",
       "      <td>8</td>\n",
       "      <td>10/26/02</td>\n",
       "      <td>A</td>\n",
       "      <td>Sporting CP</td>\n",
       "      <td>Boavista FC</td>\n",
       "      <td>1:02</td>\n",
       "      <td>NaN</td>\n",
       "      <td>88</td>\n",
       "      <td>1:02</td>\n",
       "      <td>Right-footed shot</td>\n",
       "      <td>Carlos Martins</td>\n",
       "    </tr>\n",
       "    <tr>\n",
       "      <th>3</th>\n",
       "      <td>02/03</td>\n",
       "      <td>Taca de Portugal Placard</td>\n",
       "      <td>Fourth Round</td>\n",
       "      <td>11/24/02</td>\n",
       "      <td>H</td>\n",
       "      <td>Sporting CP</td>\n",
       "      <td>CD Estarreja</td>\n",
       "      <td>4:01</td>\n",
       "      <td>NaN</td>\n",
       "      <td>67</td>\n",
       "      <td>3:00</td>\n",
       "      <td>Left-footed shot</td>\n",
       "      <td>Cesar Prates</td>\n",
       "    </tr>\n",
       "    <tr>\n",
       "      <th>4</th>\n",
       "      <td>02/03</td>\n",
       "      <td>Taca de Portugal Placard</td>\n",
       "      <td>Fifth Round</td>\n",
       "      <td>12/18/02</td>\n",
       "      <td>H</td>\n",
       "      <td>Sporting CP</td>\n",
       "      <td>FC Oliveira do Hospital</td>\n",
       "      <td>8:01</td>\n",
       "      <td>NaN</td>\n",
       "      <td>13</td>\n",
       "      <td>3:00</td>\n",
       "      <td>NaN</td>\n",
       "      <td>NaN</td>\n",
       "    </tr>\n",
       "    <tr>\n",
       "      <th>5</th>\n",
       "      <td>03/04</td>\n",
       "      <td>Premier League</td>\n",
       "      <td>11</td>\n",
       "      <td>11-01-03</td>\n",
       "      <td>H</td>\n",
       "      <td>Manchester United</td>\n",
       "      <td>Portsmouth FC</td>\n",
       "      <td>3:00</td>\n",
       "      <td>RW</td>\n",
       "      <td>80</td>\n",
       "      <td>2:00</td>\n",
       "      <td>Direct free kick</td>\n",
       "      <td>NaN</td>\n",
       "    </tr>\n",
       "    <tr>\n",
       "      <th>6</th>\n",
       "      <td>03/04</td>\n",
       "      <td>FA Cup</td>\n",
       "      <td>Fifth Round</td>\n",
       "      <td>2/14/04</td>\n",
       "      <td>H</td>\n",
       "      <td>Manchester United</td>\n",
       "      <td>Manchester City</td>\n",
       "      <td>4:02</td>\n",
       "      <td>RW</td>\n",
       "      <td>74</td>\n",
       "      <td>3:00</td>\n",
       "      <td>Right-footed shot</td>\n",
       "      <td>NaN</td>\n",
       "    </tr>\n",
       "    <tr>\n",
       "      <th>7</th>\n",
       "      <td>03/04</td>\n",
       "      <td>Premier League</td>\n",
       "      <td>29</td>\n",
       "      <td>3/20/04</td>\n",
       "      <td>H</td>\n",
       "      <td>Manchester United</td>\n",
       "      <td>Tottenham Hotspur</td>\n",
       "      <td>3:00</td>\n",
       "      <td>NaN</td>\n",
       "      <td>89</td>\n",
       "      <td>2:00</td>\n",
       "      <td>Right-footed shot</td>\n",
       "      <td>NaN</td>\n",
       "    </tr>\n",
       "    <tr>\n",
       "      <th>8</th>\n",
       "      <td>03/04</td>\n",
       "      <td>Premier League</td>\n",
       "      <td>32</td>\n",
       "      <td>04-10-04</td>\n",
       "      <td>A</td>\n",
       "      <td>Manchester United</td>\n",
       "      <td>Birmingham City</td>\n",
       "      <td>1:02</td>\n",
       "      <td>NaN</td>\n",
       "      <td>60</td>\n",
       "      <td>1:01</td>\n",
       "      <td>Header</td>\n",
       "      <td>Ryan Giggs</td>\n",
       "    </tr>\n",
       "    <tr>\n",
       "      <th>9</th>\n",
       "      <td>03/04</td>\n",
       "      <td>Premier League</td>\n",
       "      <td>38</td>\n",
       "      <td>5/15/04</td>\n",
       "      <td>A</td>\n",
       "      <td>Manchester United</td>\n",
       "      <td>Aston Villa</td>\n",
       "      <td>0:02</td>\n",
       "      <td>NaN</td>\n",
       "      <td>4</td>\n",
       "      <td>0:01</td>\n",
       "      <td>Right-footed shot</td>\n",
       "      <td>NaN</td>\n",
       "    </tr>\n",
       "  </tbody>\n",
       "</table>\n",
       "</div>"
      ],
      "text/plain": [
       "  Season               Competition      Matchday      Date Venue  \\\n",
       "0  02/03             Liga Portugal             6  10-07-02     H   \n",
       "1  02/03             Liga Portugal             6  10-07-02     H   \n",
       "2  02/03             Liga Portugal             8  10/26/02     A   \n",
       "3  02/03  Taca de Portugal Placard  Fourth Round  11/24/02     H   \n",
       "4  02/03  Taca de Portugal Placard   Fifth Round  12/18/02     H   \n",
       "5  03/04            Premier League            11  11-01-03     H   \n",
       "6  03/04                    FA Cup   Fifth Round   2/14/04     H   \n",
       "7  03/04            Premier League            29   3/20/04     H   \n",
       "8  03/04            Premier League            32  04-10-04     A   \n",
       "9  03/04            Premier League            38   5/15/04     A   \n",
       "\n",
       "                Club                 Opponent Result Playing_Position Minute  \\\n",
       "0        Sporting CP            Moreirense FC   3:00               LW     34   \n",
       "1        Sporting CP            Moreirense FC   3:00               LW   90+5   \n",
       "2        Sporting CP              Boavista FC   1:02              NaN     88   \n",
       "3        Sporting CP             CD Estarreja   4:01              NaN     67   \n",
       "4        Sporting CP  FC Oliveira do Hospital   8:01              NaN     13   \n",
       "5  Manchester United            Portsmouth FC   3:00               RW     80   \n",
       "6  Manchester United          Manchester City   4:02               RW     74   \n",
       "7  Manchester United        Tottenham Hotspur   3:00              NaN     89   \n",
       "8  Manchester United          Birmingham City   1:02              NaN     60   \n",
       "9  Manchester United              Aston Villa   0:02              NaN      4   \n",
       "\n",
       "  At_score               Type     Goal_assist  \n",
       "0     2:00           Solo run             NaN  \n",
       "1     3:00             Header       Rui Jorge  \n",
       "2     1:02  Right-footed shot  Carlos Martins  \n",
       "3     3:00   Left-footed shot    Cesar Prates  \n",
       "4     3:00                NaN             NaN  \n",
       "5     2:00   Direct free kick             NaN  \n",
       "6     3:00  Right-footed shot             NaN  \n",
       "7     2:00  Right-footed shot             NaN  \n",
       "8     1:01             Header      Ryan Giggs  \n",
       "9     0:01  Right-footed shot             NaN  "
      ]
     },
     "execution_count": 3,
     "metadata": {},
     "output_type": "execute_result"
    }
   ],
   "source": [
    "df = pd.read_csv('data.csv')\n",
    "df.head(10)"
   ]
  },
  {
   "cell_type": "code",
   "execution_count": 4,
   "metadata": {},
   "outputs": [
    {
     "data": {
      "text/plain": [
       "(710, 13)"
      ]
     },
     "execution_count": 4,
     "metadata": {},
     "output_type": "execute_result"
    }
   ],
   "source": [
    "df.shape"
   ]
  },
  {
   "cell_type": "code",
   "execution_count": 5,
   "metadata": {},
   "outputs": [],
   "source": [
    "df['Season'] = df['Season'].replace('Dec-13', '12/13')"
   ]
  },
  {
   "cell_type": "code",
   "execution_count": 6,
   "metadata": {},
   "outputs": [
    {
     "name": "stdout",
     "output_type": "stream",
     "text": [
      "<class 'pandas.core.frame.DataFrame'>\n",
      "RangeIndex: 710 entries, 0 to 709\n",
      "Data columns (total 13 columns):\n",
      " #   Column            Non-Null Count  Dtype \n",
      "---  ------            --------------  ----- \n",
      " 0   Season            710 non-null    object\n",
      " 1   Competition       710 non-null    object\n",
      " 2   Matchday          710 non-null    object\n",
      " 3   Date              710 non-null    object\n",
      " 4   Venue             710 non-null    object\n",
      " 5   Club              710 non-null    object\n",
      " 6   Opponent          710 non-null    object\n",
      " 7   Result            710 non-null    object\n",
      " 8   Playing_Position  652 non-null    object\n",
      " 9   Minute            710 non-null    object\n",
      " 10  At_score          710 non-null    object\n",
      " 11  Type              695 non-null    object\n",
      " 12  Goal_assist       464 non-null    object\n",
      "dtypes: object(13)\n",
      "memory usage: 72.2+ KB\n"
     ]
    }
   ],
   "source": [
    "df.info()"
   ]
  },
  {
   "cell_type": "markdown",
   "metadata": {},
   "source": [
    "## Cristiano Ronaldo's top scoring season"
   ]
  },
  {
   "cell_type": "code",
   "execution_count": 7,
   "metadata": {},
   "outputs": [
    {
     "data": {
      "text/plain": [
       "Season\n",
       "14/15    61\n",
       "11/12    60\n",
       "12/13    55\n",
       "10/11    53\n",
       "13/14    51\n",
       "15/16    51\n",
       "17/18    44\n",
       "16/17    42\n",
       "07/08    42\n",
       "19/20    37\n",
       "20/21    36\n",
       "09/10    33\n",
       "18/19    28\n",
       "08/09    26\n",
       "21/22    24\n",
       "06/07    23\n",
       "05/06    12\n",
       "22/23    12\n",
       "04/05     9\n",
       "03/04     6\n",
       "02/03     5\n",
       "Name: count, dtype: int64"
      ]
     },
     "execution_count": 7,
     "metadata": {},
     "output_type": "execute_result"
    }
   ],
   "source": [
    "goals_by_season = df['Season'].value_counts()\n",
    "\n",
    "goals_by_season"
   ]
  },
  {
   "cell_type": "code",
   "execution_count": 8,
   "metadata": {},
   "outputs": [
    {
     "data": {
      "image/png": "[encoded data removed]",
      "text/plain": [
       "<Figure size 640x480 with 1 Axes>"
      ]
     },
     "metadata": {},
     "output_type": "display_data"
    }
   ],
   "source": [
    "goals_by_season.plot(kind='bar')\n",
    "plt.title('Top Scoring Season')\n",
    "plt.ylabel('Goals')\n",
    "plt.xlabel('Season')\n",
    "plt.show()"
   ]
  },
  {
   "cell_type": "markdown",
   "metadata": {},
   "source": [
    "## Goals by competition"
   ]
  },
  {
   "cell_type": "code",
   "execution_count": 9,
   "metadata": {},
   "outputs": [
    {
     "data": {
      "text/plain": [
       "Competition\n",
       "LaLiga                              311\n",
       "UEFA Champions League               140\n",
       "Premier League                      103\n",
       "Serie A                              81\n",
       "Copa del Rey                         22\n",
       "FA Cup                               13\n",
       "Saudi Pro League                      9\n",
       "FIFA Club World Cup                   7\n",
       "Italy Cup                             4\n",
       "EFL Cup                               4\n",
       "Supercopa                             4\n",
       "Liga Portugal                         3\n",
       "Taca de Portugal Placard              2\n",
       "Supercoppa Italiana                   2\n",
       "UEFA Super Cup                        2\n",
       "Europa League                         2\n",
       "UEFA Champions League Qualifying      1\n",
       "Name: count, dtype: int64"
      ]
     },
     "execution_count": 9,
     "metadata": {},
     "output_type": "execute_result"
    }
   ],
   "source": [
    "goals_by_competition = df['Competition'].value_counts()\n",
    "\n",
    "goals_by_competition"
   ]
  },
  {
   "cell_type": "code",
   "execution_count": 10,
   "metadata": {},
   "outputs": [
    {
     "data": {
      "image/png": "[encoded data removed]",
      "text/plain": [
       "<Figure size 640x480 with 1 Axes>"
      ]
     },
     "metadata": {},
     "output_type": "display_data"
    }
   ],
   "source": [
    "goals_by_competition.plot(kind='bar', color='#1ABC9C')\n",
    "\n",
    "plt.title('Goals by competition')\n",
    "plt.ylabel('Goals')\n",
    "plt.xlabel('Competition')\n",
    "\n",
    "plt.show()"
   ]
  },
  {
   "cell_type": "markdown",
   "metadata": {},
   "source": [
    "## Goals by club"
   ]
  },
  {
   "cell_type": "code",
   "execution_count": 11,
   "metadata": {},
   "outputs": [
    {
     "data": {
      "text/plain": [
       "Club\n",
       "Real Madrid          450\n",
       "Manchester United    145\n",
       "Juventus FC          101\n",
       "Al-Nassr FC            9\n",
       "Sporting CP            5\n",
       "Name: count, dtype: int64"
      ]
     },
     "execution_count": 11,
     "metadata": {},
     "output_type": "execute_result"
    }
   ],
   "source": [
    "goals_by_club = df['Club'].value_counts()\n",
    "\n",
    "goals_by_club"
   ]
  },
  {
   "cell_type": "code",
   "execution_count": 12,
   "metadata": {},
   "outputs": [
    {
     "data": {
      "image/png": "[encoded data removed]",
      "text/plain": [
       "<Figure size 1000x600 with 1 Axes>"
      ]
     },
     "metadata": {},
     "output_type": "display_data"
    }
   ],
   "source": [
    "plt.figure(figsize=(10,6))\n",
    "plt.bar(goals_by_club.index, goals_by_club.values, color=['#FF5733', '#33FF57', '#3357FF', '#FF33A1', '#33FFF6'])\n",
    "\n",
    "# Adicionando títulos e rótulos\n",
    "plt.title('Goals by Club')\n",
    "plt.xlabel('Clubs')\n",
    "plt.ylabel('Goals')\n",
    "\n",
    "# Exibir o gráfico\n",
    "plt.show()\n",
    "\n"
   ]
  },
  {
   "cell_type": "markdown",
   "metadata": {},
   "source": [
    "## Favorite opponents"
   ]
  },
  {
   "cell_type": "code",
   "execution_count": 13,
   "metadata": {},
   "outputs": [
    {
     "data": {
      "text/plain": [
       "Opponent\n",
       "Sevilla FC                27\n",
       "Atletico de Madrid        25\n",
       "Getafe CF                 23\n",
       "Celta de Vigo             20\n",
       "FC Barcelona              20\n",
       "Athletic Bilbao           17\n",
       "Malaga CF                 17\n",
       "Real Sociedad             15\n",
       "Valencia CF               15\n",
       "RCD Espanyol Barcelona    15\n",
       "Name: count, dtype: int64"
      ]
     },
     "execution_count": 13,
     "metadata": {},
     "output_type": "execute_result"
    }
   ],
   "source": [
    "opponents = df['Opponent'].value_counts()\n",
    "\n",
    "opponents.head(10)"
   ]
  },
  {
   "cell_type": "markdown",
   "metadata": {},
   "source": [
    "## Goals by position"
   ]
  },
  {
   "cell_type": "code",
   "execution_count": 14,
   "metadata": {},
   "outputs": [
    {
     "data": {
      "text/plain": [
       "Playing_Position\n",
       "LW     356\n",
       "CF     209\n",
       "RW      79\n",
       "LW       5\n",
       "CF       3\n",
       "Name: count, dtype: int64"
      ]
     },
     "execution_count": 14,
     "metadata": {},
     "output_type": "execute_result"
    }
   ],
   "source": [
    "goals_by_position = df['Playing_Position'].value_counts()\n",
    "\n",
    "goals_by_position"
   ]
  },
  {
   "cell_type": "markdown",
   "metadata": {},
   "source": [
    "## Goal types"
   ]
  },
  {
   "cell_type": "code",
   "execution_count": 15,
   "metadata": {},
   "outputs": [
    {
     "data": {
      "text/plain": [
       "Type\n",
       "Right-footed shot         253\n",
       "Penalty                   132\n",
       "Left-footed shot          113\n",
       "Header                    112\n",
       "Direct free kick           49\n",
       "Tap-in                     14\n",
       "Long distance kick          9\n",
       "Counter attack goal         6\n",
       "Penalty rebound             3\n",
       "Solo run                    2\n",
       "Deflected shot on goal      2\n",
       "Name: count, dtype: int64"
      ]
     },
     "execution_count": 15,
     "metadata": {},
     "output_type": "execute_result"
    }
   ],
   "source": [
    "goal_types = df['Type'].value_counts()\n",
    "\n",
    "goal_types"
   ]
  },
  {
   "cell_type": "markdown",
   "metadata": {},
   "source": [
    "## Goal assist player"
   ]
  },
  {
   "cell_type": "code",
   "execution_count": 16,
   "metadata": {},
   "outputs": [
    {
     "data": {
      "text/plain": [
       "Goal_assist\n",
       "Karim Benzema      44\n",
       "Gareth Bale        29\n",
       "Mesut Ozil         26\n",
       "Marcelo            23\n",
       "Angel Di Maria     22\n",
       "Ryan Giggs         18\n",
       "Isco               16\n",
       "Gonzalo Higuain    16\n",
       "Luka Modric        14\n",
       "Daniel Carvajal    12\n",
       "Name: count, dtype: int64"
      ]
     },
     "execution_count": 16,
     "metadata": {},
     "output_type": "execute_result"
    }
   ],
   "source": [
    "assist = df['Goal_assist'].value_counts()\n",
    "\n",
    "assist.head(10)"
   ]
  },
  {
   "cell_type": "markdown",
   "metadata": {},
   "source": [
    "## Goals in finals by competition"
   ]
  },
  {
   "cell_type": "code",
   "execution_count": 17,
   "metadata": {},
   "outputs": [
    {
     "data": {
      "text/plain": [
       "Competition\n",
       "FIFA Club World Cup      4\n",
       "UEFA Champions League    4\n",
       "Copa del Rey             2\n",
       "Supercoppa Italiana      2\n",
       "UEFA Super Cup           2\n",
       "FA Cup                   1\n",
       "EFL Cup                  1\n",
       "dtype: int64"
      ]
     },
     "execution_count": 17,
     "metadata": {},
     "output_type": "execute_result"
    }
   ],
   "source": [
    "finals = df.loc[df['Matchday']=='Final']\n",
    "\n",
    "competition_finals = finals.groupby('Competition').size().sort_values(ascending=False)\n",
    "\n",
    "competition_finals"
   ]
  },
  {
   "cell_type": "markdown",
   "metadata": {},
   "source": [
    "## Away and home goals"
   ]
  },
  {
   "cell_type": "code",
   "execution_count": 18,
   "metadata": {},
   "outputs": [
    {
     "data": {
      "text/plain": [
       "Venue\n",
       "H    404\n",
       "A    306\n",
       "Name: count, dtype: int64"
      ]
     },
     "execution_count": 18,
     "metadata": {},
     "output_type": "execute_result"
    }
   ],
   "source": [
    "away_home_goals = df['Venue'].value_counts()\n",
    "\n",
    "away_home_goals"
   ]
  },
  {
   "cell_type": "markdown",
   "metadata": {},
   "source": [
    "## Goals by minute"
   ]
  },
  {
   "cell_type": "code",
   "execution_count": 19,
   "metadata": {},
   "outputs": [
    {
     "data": {
      "text/plain": [
       "Minute\n",
       "90      17\n",
       "89      15\n",
       "45      15\n",
       "23      15\n",
       "76      14\n",
       "        ..\n",
       "105      1\n",
       "109      1\n",
       "90+7     1\n",
       "45+7     1\n",
       "45+2     1\n",
       "Name: count, Length: 106, dtype: int64"
      ]
     },
     "execution_count": 19,
     "metadata": {},
     "output_type": "execute_result"
    }
   ],
   "source": [
    "goals_by_minute = df['Minute'].value_counts()\n",
    "\n",
    "goals_by_minute"
   ]
  },
  {
   "cell_type": "markdown",
   "metadata": {},
   "source": [
    "## 3 or more goals matches"
   ]
  },
  {
   "cell_type": "code",
   "execution_count": null,
   "metadata": {},
   "outputs": [
    {
     "name": "stdout",
     "output_type": "stream",
     "text": [
      "count\n",
      "3    43\n",
      "4     7\n",
      "5     2\n",
      "Name: count, dtype: int64\n"
     ]
    }
   ],
   "source": [
    "date_count = df['Date'].value_counts()\n",
    "\n",
    "three_or_more_goals_count = date_count[date_count>=3].value_counts()\n",
    "\n",
    "print(three_or_more_goals_count)"
   ]
  },
  {
   "cell_type": "markdown",
   "metadata": {},
   "source": [
    "## Two or more goals matches"
   ]
  },
  {
   "cell_type": "code",
   "execution_count": 22,
   "metadata": {},
   "outputs": [
    {
     "name": "stdout",
     "output_type": "stream",
     "text": [
      "count\n",
      "2    127\n",
      "3     43\n",
      "4      7\n",
      "5      2\n",
      "Name: count, dtype: int64\n"
     ]
    }
   ],
   "source": [
    "two_or_more_goals_count = date_count[date_count>=2].value_counts()\n",
    "\n",
    "print(two_or_more_goals_count)"
   ]
  }
 ],
 "metadata": {
  "kernelspec": {
   "display_name": "Python 3",
   "language": "python",
   "name": "python3"
  },
  "language_info": {
   "codemirror_mode": {
    "name": "ipython",
    "version": 3
   },
   "file_extension": ".py",
   "mimetype": "text/x-python",
   "name": "python",
   "nbconvert_exporter": "python",
   "pygments_lexer": "ipython3",
   "version": "3.12.3"
  }
 },
 "nbformat": 4,
 "nbformat_minor": 2
}
